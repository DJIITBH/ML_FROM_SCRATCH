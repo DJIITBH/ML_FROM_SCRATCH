{
  "nbformat": 4,
  "nbformat_minor": 0,
  "metadata": {
    "colab": {
      "provenance": []
    },
    "kernelspec": {
      "name": "python3",
      "display_name": "Python 3"
    },
    "language_info": {
      "name": "python"
    }
  },
  "cells": [
    {
      "cell_type": "markdown",
      "source": [
        "#IMPORT LIBRARY"
      ],
      "metadata": {
        "id": "jBJbp4iy-VlS"
      }
    },
    {
      "cell_type": "code",
      "execution_count": 2,
      "metadata": {
        "id": "4F2qZckM-JQt"
      },
      "outputs": [],
      "source": [
        "import numpy as np\n",
        "import matplotlib.pyplot as plt"
      ]
    },
    {
      "cell_type": "markdown",
      "source": [
        "#DECLARE DATA"
      ],
      "metadata": {
        "id": "uqQtHd0qSvy3"
      }
    },
    {
      "cell_type": "code",
      "source": [
        "data = np.array([[4.,1], [2,4], [2,3], [4,4], [9,10], [6,8], [9,5], [8,7], [10,8]])\n",
        "data"
      ],
      "metadata": {
        "colab": {
          "base_uri": "https://localhost:8080/"
        },
        "id": "dXSTb4XT-UBh",
        "outputId": "5337370c-b0c5-45f5-e7b9-11f8261d5d20"
      },
      "execution_count": 26,
      "outputs": [
        {
          "output_type": "execute_result",
          "data": {
            "text/plain": [
              "array([[ 4.,  1.],\n",
              "       [ 2.,  4.],\n",
              "       [ 2.,  3.],\n",
              "       [ 4.,  4.],\n",
              "       [ 9., 10.],\n",
              "       [ 6.,  8.],\n",
              "       [ 9.,  5.],\n",
              "       [ 8.,  7.],\n",
              "       [10.,  8.]])"
            ]
          },
          "metadata": {},
          "execution_count": 26
        }
      ]
    },
    {
      "cell_type": "markdown",
      "source": [
        "#CALC MEANS\n",
        "\n",
        "\n"
      ],
      "metadata": {
        "id": "GIAmU-FVUmid"
      }
    },
    {
      "cell_type": "code",
      "source": [
        "mean1 = []\n",
        "mean2 = []\n",
        "mean1.append(np.mean(data[:4,0]))\n",
        "mean1.append(np.mean(data[:4,1]))\n",
        "mean2.append(np.mean(data[4:,0]))\n",
        "mean2.append(np.mean(data[4:,1]))\n",
        "print(mean1,mean2)"
      ],
      "metadata": {
        "colab": {
          "base_uri": "https://localhost:8080/"
        },
        "id": "u7coXP22TUBq",
        "outputId": "caf2be00-f8ff-4da0-9995-b96830979444"
      },
      "execution_count": 27,
      "outputs": [
        {
          "output_type": "stream",
          "name": "stdout",
          "text": [
            "[3.0, 3.0] [8.4, 7.6]\n"
          ]
        }
      ]
    },
    {
      "cell_type": "markdown",
      "source": [
        "#MAKE DATA MEAN CENTRIC"
      ],
      "metadata": {
        "id": "BT4hb3EnUurj"
      }
    },
    {
      "cell_type": "code",
      "source": [
        "print(data.shape)\n",
        "# data1 = np.zeros((9,2))\n",
        "data[:4,0] = data[:4,0] - mean1[0]\n",
        "data[:4,1] = data[:4,1] - mean1[1]\n",
        "data[4:,0] = data[4:,0] - mean2[0]\n",
        "data[4:,1] = data[4:,1] - mean2[1]\n",
        "# Scatter plot the data for both classes on the same graph\n",
        "plt.scatter(data[:4, 0], data[:4, 1], color='blue', marker='o', label='X1')\n",
        "plt.scatter(data[4:, 0], data[4:, 1], color='red', marker='x', label='X2')\n",
        "\n",
        "# Add a legend to differentiate between the classes\n",
        "plt.legend()\n",
        "\n",
        "# Display the plot\n",
        "plt.title(\"Combined Scatter Plot for X1 and X2\")\n",
        "plt.xlabel(\"X-axis\")\n",
        "plt.ylabel(\"Y-axis\")\n",
        "plt.show()"
      ],
      "metadata": {
        "colab": {
          "base_uri": "https://localhost:8080/",
          "height": 490
        },
        "id": "PrAi_3B5Tjf-",
        "outputId": "66a794be-ba8f-4886-cd0f-bc43ff742741"
      },
      "execution_count": 47,
      "outputs": [
        {
          "output_type": "stream",
          "name": "stdout",
          "text": [
            "(9, 2)\n"
          ]
        },
        {
          "output_type": "display_data",
          "data": {
            "text/plain": [
              "<Figure size 640x480 with 1 Axes>"
            ],
            "image/png": "[encoded data removed]"
          },
          "metadata": {}
        }
      ]
    },
    {
      "cell_type": "markdown",
      "source": [
        "#DEFINE S1,S2"
      ],
      "metadata": {
        "id": "DaHACbDDYn_w"
      }
    },
    {
      "cell_type": "code",
      "source": [
        "s1 = np.zeros((4,2))\n",
        "s2 = np.zeros((5,2))\n",
        "s1[:4,0] = data[:4,0]\n",
        "s1[:4,1] = data[:4,1]\n",
        "s2[:5,0] = data[4:,0]\n",
        "s2[:5,1] = data[4:,1]\n",
        "s1_t = np.transpose(s1)\n",
        "s2_t = np.transpose(s2)\n",
        "s1 = s1_t@s1\n",
        "s2 = s2_t@s2\n",
        "print(s1)\n",
        "print(s2)"
      ],
      "metadata": {
        "colab": {
          "base_uri": "https://localhost:8080/"
        },
        "id": "lfuSa6T7VAx0",
        "outputId": "d1a8d91b-097b-4933-8a15-71b758f1e4a9"
      },
      "execution_count": 48,
      "outputs": [
        {
          "output_type": "stream",
          "name": "stdout",
          "text": [
            "[[40. 34.]\n",
            " [34. 42.]]\n",
            "[[362. 319.]\n",
            " [319. 302.]]\n"
          ]
        }
      ]
    },
    {
      "cell_type": "markdown",
      "source": [
        "#DEFINE SW"
      ],
      "metadata": {
        "id": "KXLfT00RZkbP"
      }
    },
    {
      "cell_type": "code",
      "source": [
        "sw= s1 + s2\n",
        "sw_inv = np.linalg.inv(sw)"
      ],
      "metadata": {
        "id": "swiKzhS3Yg84"
      },
      "execution_count": 49,
      "outputs": []
    },
    {
      "cell_type": "markdown",
      "source": [
        "#DEFINE SB"
      ],
      "metadata": {
        "id": "0FHerxeiZ01s"
      }
    },
    {
      "cell_type": "code",
      "source": [
        "m = [0,0]\n",
        "m[0] = mean1[0] - mean2[0]\n",
        "m[1] = mean1[1] - mean2[1]\n",
        "m = np.array([[m[0]],[m[1]]])\n",
        "m_t = m.transpose()\n",
        "sb = m@m_t\n",
        "sb"
      ],
      "metadata": {
        "colab": {
          "base_uri": "https://localhost:8080/"
        },
        "id": "_FJ7Nf6MZyyY",
        "outputId": "765a6435-62c0-48bf-d83c-5dddddfc3240"
      },
      "execution_count": 50,
      "outputs": [
        {
          "output_type": "execute_result",
          "data": {
            "text/plain": [
              "array([[29.16, 24.84],\n",
              "       [24.84, 21.16]])"
            ]
          },
          "metadata": {},
          "execution_count": 50
        }
      ]
    },
    {
      "cell_type": "markdown",
      "source": [
        "#FIND EIG VECTOR"
      ],
      "metadata": {
        "id": "9d0QZ9KGbx5G"
      }
    },
    {
      "cell_type": "code",
      "source": [
        "c = sw_inv@sb\n",
        "value, vec = np.linalg.eig(c)\n",
        "pts = []\n",
        "for d in data:\n",
        "  pts.append(vec[0,0]*d[0] + vec[1,0]*d[1])\n",
        "\n",
        "plt.scatter(pts[:4],[0 for _ in range(len(pts[:4]))],color='blue', marker='o', label='X1')\n",
        "plt.scatter(pts[4:],[0 for _ in range(len(pts[4:]))],color='red', marker='x', label='X2')"
      ],
      "metadata": {
        "colab": {
          "base_uri": "https://localhost:8080/",
          "height": 448
        },
        "id": "EWRpF7L6aDhl",
        "outputId": "4ec3f4bd-f946-4737-88e8-a6faf1313dfa"
      },
      "execution_count": 51,
      "outputs": [
        {
          "output_type": "execute_result",
          "data": {
            "text/plain": [
              "<matplotlib.collections.PathCollection at 0x7c78a7b5eef0>"
            ]
          },
          "metadata": {},
          "execution_count": 51
        },
        {
          "output_type": "display_data",
          "data": {
            "text/plain": [
              "<Figure size 640x480 with 1 Axes>"
            ],
            "image/png": "[encoded data removed]"
          },
          "metadata": {}
        }
      ]
    },
    {
      "cell_type": "code",
      "source": [],
      "metadata": {
        "id": "I_KL5jiqbiXT"
      },
      "execution_count": 45,
      "outputs": []
    }
  ]
}